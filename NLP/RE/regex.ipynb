{
  "nbformat": 4,
  "nbformat_minor": 0,
  "metadata": {
    "colab": {
      "provenance": [],
      "authorship_tag": "ABX9TyN2pfbeycOQqb7miKzOoZIS",
      "include_colab_link": true
    },
    "kernelspec": {
      "name": "python3",
      "display_name": "Python 3"
    },
    "language_info": {
      "name": "python"
    }
  },
  "cells": [
    {
      "cell_type": "markdown",
      "metadata": {
        "id": "view-in-github",
        "colab_type": "text"
      },
      "source": [
        "<a href=\"https://colab.research.google.com/github/NarendarB0152/DataScience/blob/main/NLP/RE/regex.ipynb\" target=\"_parent\"><img src=\"https://colab.research.google.com/assets/colab-badge.svg\" alt=\"Open In Colab\"/></a>"
      ]
    },
    {
      "cell_type": "code",
      "execution_count": 2,
      "metadata": {
        "colab": {
          "base_uri": "https://localhost:8080/"
        },
        "id": "7OqxN3E9CM85",
        "outputId": "b9ebcc20-4e8d-429f-e5b3-e37c020fc6e9"
      },
      "outputs": [
        {
          "output_type": "execute_result",
          "data": {
            "text/plain": [
              "['412889912']"
            ]
          },
          "metadata": {},
          "execution_count": 2
        }
      ],
      "source": [
        "import re\n",
        "chat1=\"hexacore: hello, I am having an issue with my order # 412889912\"\n",
        "pattern='order[^\\d]*(\\d*)'\n",
        "matches=re.findall(pattern,chat1)\n",
        "matches"
      ]
    },
    {
      "cell_type": "code",
      "source": [
        "chat1 = 'hexa: you ask lot of questions 😠  1235678912, abc@xyz.com'\n",
        "chat2 = 'hexa: here it is: (123)-567-8912, abc@xyz.com'\n",
        "chat3 = 'hexa: yes, phone: 1235678912 email: abc@xyz.com'"
      ],
      "metadata": {
        "id": "CmIb4uayDlD1"
      },
      "execution_count": 7,
      "outputs": []
    },
    {
      "cell_type": "code",
      "source": [
        "def get_pattern_match(pattern, text):\n",
        "    matches = re.findall(pattern, text)\n",
        "    if matches:\n",
        "        return matches[0]"
      ],
      "metadata": {
        "id": "bHDdhDk0Dssh"
      },
      "execution_count": 8,
      "outputs": []
    },
    {
      "cell_type": "code",
      "source": [
        "get_pattern_match('[a-zA-Z0-9_]*@[a-z]*\\.[a-z]*',chat1)"
      ],
      "metadata": {
        "colab": {
          "base_uri": "https://localhost:8080/",
          "height": 35
        },
        "id": "id83DbNPD0Vf",
        "outputId": "e13fc21a-e9fa-4f95-a8fe-0e4855e6c773"
      },
      "execution_count": 14,
      "outputs": [
        {
          "output_type": "execute_result",
          "data": {
            "text/plain": [
              "'abc@xyz.com'"
            ],
            "application/vnd.google.colaboratory.intrinsic+json": {
              "type": "string"
            }
          },
          "metadata": {},
          "execution_count": 14
        }
      ]
    },
    {
      "cell_type": "code",
      "source": [],
      "metadata": {
        "id": "INgLhoJUGais"
      },
      "execution_count": null,
      "outputs": []
    }
  ]
}