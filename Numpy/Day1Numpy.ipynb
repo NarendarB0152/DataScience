{
  "nbformat": 4,
  "nbformat_minor": 0,
  "metadata": {
    "colab": {
      "provenance": [],
      "authorship_tag": "ABX9TyOsgE7B5xf1qYY4TBjJTLmp",
      "include_colab_link": true
    },
    "kernelspec": {
      "name": "python3",
      "display_name": "Python 3"
    },
    "language_info": {
      "name": "python"
    }
  },
  "cells": [
    {
      "cell_type": "markdown",
      "metadata": {
        "id": "view-in-github",
        "colab_type": "text"
      },
      "source": [
        "<a href=\"https://colab.research.google.com/github/NarendarB0152/DataScience/blob/main/Numpy/Day1Numpy.ipynb\" target=\"_parent\"><img src=\"https://colab.research.google.com/assets/colab-badge.svg\" alt=\"Open In Colab\"/></a>"
      ]
    },
    {
      "cell_type": "code",
      "execution_count": 1,
      "metadata": {
        "id": "bOBC0Bc4E6hN"
      },
      "outputs": [],
      "source": [
        "import numpy as np"
      ]
    },
    {
      "cell_type": "markdown",
      "source": [
        "# 1. Converting a List to Array"
      ],
      "metadata": {
        "id": "XRiBp4B7G1CS"
      }
    },
    {
      "cell_type": "code",
      "source": [
        "lst=[1,2,3,4]\n",
        "print(type(lst))\n",
        "arr=np.array(lst)\n",
        "print(type(arr))\n",
        "print(arr)\n",
        "arr=np.array(lst,ndmin=2)\n",
        "print(type(arr))"
      ],
      "metadata": {
        "colab": {
          "base_uri": "https://localhost:8080/"
        },
        "id": "fxiXluPZHDTH",
        "outputId": "50000ffb-0cd0-4f0d-c567-9c561a75f778"
      },
      "execution_count": 2,
      "outputs": [
        {
          "output_type": "stream",
          "name": "stdout",
          "text": [
            "<class 'list'>\n",
            "<class 'numpy.ndarray'>\n",
            "[1 2 3 4]\n",
            "<class 'numpy.ndarray'>\n"
          ]
        }
      ]
    },
    {
      "cell_type": "markdown",
      "source": [
        "# 2. Arrange function"
      ],
      "metadata": {
        "id": "c-r5cJxMIpXc"
      }
    },
    {
      "cell_type": "code",
      "source": [
        "arr=np.arange(1,11,2)\n",
        "arr\n"
      ],
      "metadata": {
        "colab": {
          "base_uri": "https://localhost:8080/"
        },
        "id": "SFH9xMmjI3Ag",
        "outputId": "ffa9f69d-983a-4e48-c27a-5351b2cc37c6"
      },
      "execution_count": 3,
      "outputs": [
        {
          "output_type": "execute_result",
          "data": {
            "text/plain": [
              "array([1, 3, 5, 7, 9])"
            ]
          },
          "metadata": {},
          "execution_count": 3
        }
      ]
    },
    {
      "cell_type": "code",
      "source": [
        "print(*arr)"
      ],
      "metadata": {
        "colab": {
          "base_uri": "https://localhost:8080/"
        },
        "id": "dowS0-3THJTN",
        "outputId": "ff3664d4-da35-46d8-d1d6-1bfd883e9839"
      },
      "execution_count": 4,
      "outputs": [
        {
          "output_type": "stream",
          "name": "stdout",
          "text": [
            "1 3 5 7 9\n"
          ]
        }
      ]
    },
    {
      "cell_type": "code",
      "source": [
        "arr=np.array([[1,2,3],[4,5,6],[7,8,9]])\n",
        "arr"
      ],
      "metadata": {
        "colab": {
          "base_uri": "https://localhost:8080/"
        },
        "id": "xyQhRixzHJoo",
        "outputId": "e0bfae9e-e0d6-4852-c312-f0886befb357"
      },
      "execution_count": 5,
      "outputs": [
        {
          "output_type": "execute_result",
          "data": {
            "text/plain": [
              "array([[1, 2, 3],\n",
              "       [4, 5, 6],\n",
              "       [7, 8, 9]])"
            ]
          },
          "metadata": {},
          "execution_count": 5
        }
      ]
    },
    {
      "cell_type": "code",
      "source": [
        "arr=np.array([[1,2,3],[4,5,6],[7,8,9]])\n",
        "print(\"Total: \",arr.size)\n",
        "print('rows: ',np.size(arr,0))\n",
        "print('Cols: ',np.size(arr,1))"
      ],
      "metadata": {
        "colab": {
          "base_uri": "https://localhost:8080/"
        },
        "id": "WknUn6NQHJui",
        "outputId": "8123a830-2630-40c5-faa3-753dcf5746fe"
      },
      "execution_count": 6,
      "outputs": [
        {
          "output_type": "stream",
          "name": "stdout",
          "text": [
            "Total:  9\n",
            "rows:  3\n",
            "Cols:  3\n"
          ]
        }
      ]
    },
    {
      "cell_type": "code",
      "source": [
        "arr=np.array([[1,2,3],[4,5,6],[7,8,9]])\n",
        "print((np.size(arr,0),np.size(arr,1)))\n",
        "print(arr.shape)"
      ],
      "metadata": {
        "colab": {
          "base_uri": "https://localhost:8080/"
        },
        "id": "CLHIk9RdK8JN",
        "outputId": "5df8a622-87bf-4065-cbc7-fb1a5921ff80"
      },
      "execution_count": 7,
      "outputs": [
        {
          "output_type": "stream",
          "name": "stdout",
          "text": [
            "(3, 3)\n",
            "(3, 3)\n"
          ]
        }
      ]
    },
    {
      "cell_type": "code",
      "source": [
        "arr1=np.array([1,2,3,4])\n",
        "arr2=np.array([5.1,6.1,7.3,8.4])\n",
        "print(arr1.dtype)\n",
        "print(arr2.dtype)"
      ],
      "metadata": {
        "colab": {
          "base_uri": "https://localhost:8080/"
        },
        "id": "jjhpLoodLZ6c",
        "outputId": "c26bbc0c-16a0-4cd9-c293-963afb626908"
      },
      "execution_count": 8,
      "outputs": [
        {
          "output_type": "stream",
          "name": "stdout",
          "text": [
            "int64\n",
            "float64\n"
          ]
        }
      ]
    },
    {
      "cell_type": "code",
      "source": [
        "arr=np.zeros(shape=(3,5),dtype=int)\n",
        "print(arr)"
      ],
      "metadata": {
        "colab": {
          "base_uri": "https://localhost:8080/"
        },
        "id": "10oGtTuaMByv",
        "outputId": "8e457416-0c6f-4bc8-a1e9-a93d307371b9"
      },
      "execution_count": 9,
      "outputs": [
        {
          "output_type": "stream",
          "name": "stdout",
          "text": [
            "[[0 0 0 0 0]\n",
            " [0 0 0 0 0]\n",
            " [0 0 0 0 0]]\n"
          ]
        }
      ]
    },
    {
      "cell_type": "code",
      "source": [
        "arr=np.ones(shape=(3,5),dtype=int)\n",
        "print(arr)"
      ],
      "metadata": {
        "colab": {
          "base_uri": "https://localhost:8080/"
        },
        "id": "RZp1iQcTMVXs",
        "outputId": "5f3508fd-4b8d-4c6d-9dd4-a2978bc72dd7"
      },
      "execution_count": 10,
      "outputs": [
        {
          "output_type": "stream",
          "name": "stdout",
          "text": [
            "[[1 1 1 1 1]\n",
            " [1 1 1 1 1]\n",
            " [1 1 1 1 1]]\n"
          ]
        }
      ]
    },
    {
      "cell_type": "code",
      "source": [
        "np.eye(4,dtype=int)\n"
      ],
      "metadata": {
        "colab": {
          "base_uri": "https://localhost:8080/"
        },
        "id": "AV5Ny4JzHJy1",
        "outputId": "0b9a4acf-cd19-4a4b-af47-f0e5e9218689"
      },
      "execution_count": 11,
      "outputs": [
        {
          "output_type": "execute_result",
          "data": {
            "text/plain": [
              "array([[1, 0, 0, 0],\n",
              "       [0, 1, 0, 0],\n",
              "       [0, 0, 1, 0],\n",
              "       [0, 0, 0, 1]])"
            ]
          },
          "metadata": {},
          "execution_count": 11
        }
      ]
    },
    {
      "cell_type": "code",
      "source": [
        "np.empty(shape=(5,5))"
      ],
      "metadata": {
        "colab": {
          "base_uri": "https://localhost:8080/"
        },
        "id": "R27wn0MJHJ2n",
        "outputId": "2dc79af1-b0ab-4acd-de26-be6ea77fe7a6"
      },
      "execution_count": 12,
      "outputs": [
        {
          "output_type": "execute_result",
          "data": {
            "text/plain": [
              "array([[5.11437479e-315, 0.00000000e+000, 6.80165664e-310,\n",
              "        6.80165663e-310, 5.32561660e-317],\n",
              "       [6.80165655e-310, 6.80165655e-310, 6.80165655e-310,\n",
              "        6.80165655e-310, 6.80165655e-310],\n",
              "       [6.80165663e-310, 6.80165664e-310, 6.80165655e-310,\n",
              "        6.80165663e-310, 6.80165655e-310],\n",
              "       [6.80165655e-310, 6.80165663e-310, 6.80165655e-310,\n",
              "        6.80165655e-310, 2.42092166e-322],\n",
              "       [5.11492416e-315, 6.80167151e-310, 6.80165655e-310,\n",
              "        6.80165655e-310, 1.66006057e-321]])"
            ]
          },
          "metadata": {},
          "execution_count": 12
        }
      ]
    },
    {
      "cell_type": "code",
      "source": [
        "np.random.rand(3,4)"
      ],
      "metadata": {
        "id": "xFdOK2GAHJ52",
        "outputId": "2ac965f9-84ad-4873-dbcd-7cde2777a960",
        "colab": {
          "base_uri": "https://localhost:8080/"
        }
      },
      "execution_count": 13,
      "outputs": [
        {
          "output_type": "execute_result",
          "data": {
            "text/plain": [
              "array([[0.73346748, 0.54290444, 0.8937802 , 0.49568794],\n",
              "       [0.4448303 , 0.01556313, 0.77466053, 0.24732882],\n",
              "       [0.84753668, 0.31883276, 0.82609427, 0.54230561]])"
            ]
          },
          "metadata": {},
          "execution_count": 13
        }
      ]
    },
    {
      "cell_type": "code",
      "source": [
        "np.random.randint(low = 1, high = 10, size = 10)"
      ],
      "metadata": {
        "id": "Mx0rJJlsQEkl",
        "outputId": "da4273c8-dee4-40b0-f272-65d0797af304",
        "colab": {
          "base_uri": "https://localhost:8080/"
        }
      },
      "execution_count": 14,
      "outputs": [
        {
          "output_type": "execute_result",
          "data": {
            "text/plain": [
              "array([2, 7, 8, 6, 8, 7, 6, 9, 7, 3])"
            ]
          },
          "metadata": {},
          "execution_count": 14
        }
      ]
    },
    {
      "cell_type": "code",
      "source": [
        "import matplotlib.pyplot as plt\n",
        "\n",
        "%matplotlib inline\n",
        "\n",
        "plt.hist(np.random.randn(10000000), bins = 1000);"
      ],
      "metadata": {
        "id": "KjeJcKt-QEqs",
        "outputId": "655e8f87-bb94-495c-f2d2-d1eba4caa394",
        "colab": {
          "base_uri": "https://localhost:8080/",
          "height": 430
        }
      },
      "execution_count": 15,
      "outputs": [
        {
          "output_type": "display_data",
          "data": {
            "text/plain": [
              "<Figure size 640x480 with 1 Axes>"
            ],
            "image/png": "[encoded data removed]"
          },
          "metadata": {}
        }
      ]
    },
    {
      "cell_type": "code",
      "source": [
        "arr = np.random.randint(1,15,(3,4))\n",
        "print(arr.shape)\n",
        "print(arr)\n",
        "arr=arr.flatten()\n",
        "print(arr.shape)\n",
        "print(arr)\n"
      ],
      "metadata": {
        "id": "8h_FYNTvQJut",
        "outputId": "2eecf2cf-5e60-46ac-997a-83bebc1b82a4",
        "colab": {
          "base_uri": "https://localhost:8080/"
        }
      },
      "execution_count": 18,
      "outputs": [
        {
          "output_type": "stream",
          "name": "stdout",
          "text": [
            "(3, 4)\n",
            "[[ 3 14 10  4]\n",
            " [14  1  7 12]\n",
            " [ 2  7  8  8]]\n",
            "(12,)\n",
            "[ 3 14 10  4 14  1  7 12  2  7  8  8]\n"
          ]
        }
      ]
    },
    {
      "cell_type": "code",
      "source": [
        "arr1=np.random.randint(1,15,(3,4))\n",
        "arr2=np.copy(arr1)\n",
        "print(arr1)\n",
        "print(arr2)"
      ],
      "metadata": {
        "id": "QYusbfUxQkBQ",
        "outputId": "68e8725a-99cf-4d7c-b7d8-0f16988da8d6",
        "colab": {
          "base_uri": "https://localhost:8080/"
        }
      },
      "execution_count": 20,
      "outputs": [
        {
          "output_type": "stream",
          "name": "stdout",
          "text": [
            "[[ 5 12  8  7]\n",
            " [ 8  7 10  2]\n",
            " [12 12  3  1]]\n",
            "[[ 5 12  8  7]\n",
            " [ 8  7 10  2]\n",
            " [12 12  3  1]]\n"
          ]
        }
      ]
    },
    {
      "cell_type": "code",
      "source": [
        "arr1=np.random.randint(1,15,(3,4))\n",
        "print(arr)\n",
        "print('MAX : ', arr.max())\n",
        "print('MIN : ', arr.min())\n",
        "print('SUM : ', arr.sum())"
      ],
      "metadata": {
        "id": "er5YV6NtQ6zn",
        "outputId": "356f93b2-7936-41ec-bb2c-5f9d860af544",
        "colab": {
          "base_uri": "https://localhost:8080/"
        }
      },
      "execution_count": 22,
      "outputs": [
        {
          "output_type": "stream",
          "name": "stdout",
          "text": [
            "[ 3 14 10  4 14  1  7 12  2  7  8  8]\n",
            "MAX :  14\n",
            "MIN :  1\n",
            "SUM :  90\n"
          ]
        }
      ]
    },
    {
      "cell_type": "code",
      "source": [
        "arr1=np.random.randint(1,15,(3,4))\n",
        "print(arr1)\n",
        "print('MAX : ', arr1.max(axis=0))\n",
        "print('MIN : ', arr1.min(axis=0))\n",
        "print('SUM : ', arr1.sum(axis=0))"
      ],
      "metadata": {
        "id": "F1KrT3_zRPSE",
        "outputId": "6462ade5-7dd2-4325-b590-f9eea463443f",
        "colab": {
          "base_uri": "https://localhost:8080/"
        }
      },
      "execution_count": 27,
      "outputs": [
        {
          "output_type": "stream",
          "name": "stdout",
          "text": [
            "[[5 9 1 8]\n",
            " [8 4 6 8]\n",
            " [4 8 4 1]]\n",
            "MAX :  [8 9 6 8]\n",
            "MIN :  [4 4 1 1]\n",
            "SUM :  [17 21 11 17]\n"
          ]
        }
      ]
    },
    {
      "cell_type": "code",
      "source": [
        "arr1=np.random.randint(1,15,(3,4))\n",
        "print(arr1)\n",
        "print('MAX : ', arr1.max(axis=1))\n",
        "print('MIN : ', arr1.min(axis=1))\n",
        "print('SUM : ', arr1.sum(axis=1))"
      ],
      "metadata": {
        "id": "aUUrdoe9Si0C",
        "outputId": "45ca4eae-7f13-40fc-93df-7308ab7f7f17",
        "colab": {
          "base_uri": "https://localhost:8080/"
        }
      },
      "execution_count": 28,
      "outputs": [
        {
          "output_type": "stream",
          "name": "stdout",
          "text": [
            "[[ 9  9  7  9]\n",
            " [ 7  6  1  1]\n",
            " [ 2  7 13 13]]\n",
            "MAX :  [ 9  7 13]\n",
            "MIN :  [7 1 2]\n",
            "SUM :  [34 15 35]\n"
          ]
        }
      ]
    },
    {
      "cell_type": "code",
      "source": [
        "arr1=np.random.randint(1,15,(3,4))\n",
        "print(arr1)\n",
        "print(np.sort(arr1,axis=1))\n",
        "print(np.sort(arr1,axis=0))"
      ],
      "metadata": {
        "id": "hZDsH2gWSutb",
        "outputId": "1c81d368-a390-4a99-cba9-a54a9f07e781",
        "colab": {
          "base_uri": "https://localhost:8080/"
        }
      },
      "execution_count": 32,
      "outputs": [
        {
          "output_type": "stream",
          "name": "stdout",
          "text": [
            "[[ 8  9  8  2]\n",
            " [11  4  7  4]\n",
            " [ 5  4  5 12]]\n",
            "[[ 2  8  8  9]\n",
            " [ 4  4  7 11]\n",
            " [ 4  5  5 12]]\n",
            "[[ 5  4  5  2]\n",
            " [ 8  4  7  4]\n",
            " [11  9  8 12]]\n"
          ]
        }
      ]
    },
    {
      "cell_type": "code",
      "source": [
        "arr1=np.random.randint(1,15,(3,4))\n",
        "print(arr1)\n",
        "print(arr1+1)\n",
        "print(arr1-1)\n",
        "print(arr1*5)\n",
        "print(arr1/5)"
      ],
      "metadata": {
        "id": "8q2FvqhOTUVh",
        "outputId": "8183bb8b-4017-457a-bbb0-7e2a7d274d9b",
        "colab": {
          "base_uri": "https://localhost:8080/"
        }
      },
      "execution_count": 35,
      "outputs": [
        {
          "output_type": "stream",
          "name": "stdout",
          "text": [
            "[[11 12  6  4]\n",
            " [ 8 13 12  5]\n",
            " [ 6  6  9  7]]\n",
            "[[12 13  7  5]\n",
            " [ 9 14 13  6]\n",
            " [ 7  7 10  8]]\n",
            "[[10 11  5  3]\n",
            " [ 7 12 11  4]\n",
            " [ 5  5  8  6]]\n",
            "[[55 60 30 20]\n",
            " [40 65 60 25]\n",
            " [30 30 45 35]]\n",
            "[[2.2 2.4 1.2 0.8]\n",
            " [1.6 2.6 2.4 1. ]\n",
            " [1.2 1.2 1.8 1.4]]\n"
          ]
        }
      ]
    },
    {
      "cell_type": "code",
      "source": [
        "arr1=np.random.randint(1,15,(3,3))\n",
        "arr2=np.random.randint(1,15,(3,3))\n",
        "print(arr1.dot(arr2))"
      ],
      "metadata": {
        "id": "wmTAa7FkTw1D",
        "outputId": "00cb0556-cc7f-43c0-bd9b-e4b95f9e757e",
        "colab": {
          "base_uri": "https://localhost:8080/"
        }
      },
      "execution_count": 37,
      "outputs": [
        {
          "output_type": "stream",
          "name": "stdout",
          "text": [
            "[[ 36  68 141]\n",
            " [ 79 119 208]\n",
            " [142 150 219]]\n"
          ]
        }
      ]
    },
    {
      "cell_type": "code",
      "source": [
        "arr=np.random.randint(1,10,10)\n",
        "print(arr)\n",
        "print(arr.mean())\n",
        "print(arr.var())\n",
        "print(arr.std())"
      ],
      "metadata": {
        "id": "dGnSlwOZTm0h",
        "outputId": "1daa5c1a-f64d-448f-84dc-7bbe4b346580",
        "colab": {
          "base_uri": "https://localhost:8080/"
        }
      },
      "execution_count": 38,
      "outputs": [
        {
          "output_type": "stream",
          "name": "stdout",
          "text": [
            "[6 1 3 2 5 8 7 2 5 1]\n",
            "4.0\n",
            "5.8\n",
            "2.4083189157584592\n"
          ]
        }
      ]
    },
    {
      "cell_type": "code",
      "source": [
        "arr=np.arange(1,10)\n",
        "print(arr)\n",
        "print(arr<5)\n",
        "print(arr[arr<5])"
      ],
      "metadata": {
        "id": "zLag-tZ1U4TG",
        "outputId": "08c4242f-c878-47f1-fe12-92f89247aae6",
        "colab": {
          "base_uri": "https://localhost:8080/"
        }
      },
      "execution_count": 41,
      "outputs": [
        {
          "output_type": "stream",
          "name": "stdout",
          "text": [
            "[1 2 3 4 5 6 7 8 9]\n",
            "[ True  True  True  True False False False False False]\n",
            "[1 2 3 4]\n"
          ]
        }
      ]
    },
    {
      "cell_type": "code",
      "source": [
        "arr[arr>5]=10\n",
        "arr"
      ],
      "metadata": {
        "id": "yKP4hiDKVQDE",
        "outputId": "9d8539c2-6fe2-4cfa-e1e1-606c6f052186",
        "colab": {
          "base_uri": "https://localhost:8080/"
        }
      },
      "execution_count": 42,
      "outputs": [
        {
          "output_type": "execute_result",
          "data": {
            "text/plain": [
              "array([ 1,  2,  3,  4,  5, 10, 10, 10, 10])"
            ]
          },
          "metadata": {},
          "execution_count": 42
        }
      ]
    },
    {
      "cell_type": "code",
      "source": [
        "arr = np.random.randint(1,20,(3,5))\n",
        "\n",
        "print(arr)\n",
        "print('-'*20)\n",
        "print(arr.T)"
      ],
      "metadata": {
        "id": "URJyZZ_yVYMN",
        "outputId": "c6345dd5-fb66-4cd0-80e2-7b2bd32f6383",
        "colab": {
          "base_uri": "https://localhost:8080/"
        }
      },
      "execution_count": 43,
      "outputs": [
        {
          "output_type": "stream",
          "name": "stdout",
          "text": [
            "[[ 8 10  4 15 15]\n",
            " [10  7 16  4 16]\n",
            " [15 14 11  8  2]]\n",
            "--------------------\n",
            "[[ 8 10 15]\n",
            " [10  7 14]\n",
            " [ 4 16 11]\n",
            " [15  4  8]\n",
            " [15 16  2]]\n"
          ]
        }
      ]
    }
  ]
}