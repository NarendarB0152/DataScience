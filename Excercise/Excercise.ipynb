{
  "nbformat": 4,
  "nbformat_minor": 0,
  "metadata": {
    "colab": {
      "provenance": [],
      "authorship_tag": "ABX9TyM/XALFYXhbSdGY5XdzopjF",
      "include_colab_link": true
    },
    "kernelspec": {
      "name": "python3",
      "display_name": "Python 3"
    },
    "language_info": {
      "name": "python"
    }
  },
  "cells": [
    {
      "cell_type": "markdown",
      "metadata": {
        "id": "view-in-github",
        "colab_type": "text"
      },
      "source": [
        "<a href=\"https://colab.research.google.com/github/NarendarB0152/DataScience/blob/main/Excercise/Excercise.ipynb\" target=\"_parent\"><img src=\"https://colab.research.google.com/assets/colab-badge.svg\" alt=\"Open In Colab\"/></a>"
      ]
    },
    {
      "cell_type": "markdown",
      "source": [
        "**Bag of words: Exercises**\n",
        "\n",
        "In this Exercise, you are going to classify whether a given movie review is\n",
        "positive or negative.\n",
        "\n",
        "you are going to use Bag of words for pre-processing the text and apply different classification algorithms.\n",
        "\n",
        "Sklearn CountVectorizer has the inbuilt implementations for Bag of Words."
      ],
      "metadata": {
        "id": "3maASt6wCc50"
      }
    },
    {
      "cell_type": "code",
      "source": [
        "#Import necessary libraries\n",
        "\n",
        "import pandas as pd\n",
        "import numpy as np\n",
        "from sklearn.model_selection import train_test_split\n",
        "from sklearn.feature_extraction.text import CountVectorizer\n",
        "from sklearn.ensemble import RandomForestClassifier\n",
        "from  sklearn.neighbors import KNeighborsClassifier\n",
        "from sklearn.naive_bayes import MultinomialNB\n",
        "from sklearn.pipeline import Pipeline\n",
        "from sklearn.metrics import classification_report"
      ],
      "metadata": {
        "id": "lFZ_q_UbC2RN"
      },
      "execution_count": null,
      "outputs": []
    },
    {
      "cell_type": "markdown",
      "source": [
        "**About Data:**\n",
        "\n",
        "IMDB Dataset\n",
        "Credits: https://www.kaggle.com/datasets/lakshmi25npathi/imdb-dataset-of-50k-movie-reviews?resource=download\n",
        "\n",
        "This data consists of two columns. - review - sentiment\n",
        "Reviews are the statements given by users after watching the movie.\n",
        "\n",
        "sentiment feature tells whether the given review is positive or negative."
      ],
      "metadata": {
        "id": "Bdu1kmSVC8RU"
      }
    },
    {
      "cell_type": "markdown",
      "source": [
        "Exercise-1\n",
        "\n",
        "using sklearn pipeline module create a classification pipeline to classify the movie review's positive or negative.\n",
        "Note:\n",
        "\n",
        "use CountVectorizer for pre-processing the text.\n",
        "\n",
        "use Random Forest as the classifier with estimators as 50 and criterion as entropy.\n",
        "\n",
        "print the classification report.\n",
        "\n",
        "References:\n",
        "\n",
        "https://scikit-learn.org/stable/modules/generated/sklearn.ensemble.RandomForestClassifier.html\n",
        "\n",
        "https://scikit-learn.org/stable/modules/generated/sklearn.feature_extraction.text.CountVectorizer.html"
      ],
      "metadata": {
        "id": "lebIj3MMDMjz"
      }
    },
    {
      "cell_type": "markdown",
      "source": [
        "Exercise-2\n",
        "\n",
        "using sklearn pipeline module create a classification pipeline to classify the movie review's positive or negative..\n",
        "\n",
        "Note:\n",
        "\n",
        "use CountVectorizer for pre-processing the text.\n",
        "\n",
        "use KNN as the classifier with n_neighbors of 10 and metric as 'euclidean'.\n",
        "print the classification report.\n",
        "\n",
        "References:\n",
        "\n",
        "https://scikit-learn.org/stable/modules/generated/sklearn.feature_extraction.text.CountVectorizer.html\n",
        "https://scikit-learn.org/stable/modules/generated/sklearn.neighbors.KNeighborsClassifier.html"
      ],
      "metadata": {
        "id": "K9xjW4KwDVNL"
      }
    },
    {
      "cell_type": "markdown",
      "source": [
        "Exercise-3\n",
        "\n",
        "using sklearn pipeline module create a classification pipeline to classify the movie review's positive or negative..\n",
        "\n",
        "Note:\n",
        "\n",
        "use CountVectorizer for pre-processing the text.\n",
        "\n",
        "use Multinomial Naive Bayes as the classifier.\n",
        "print the classification report.\n",
        "\n",
        "References:\n",
        "\n",
        "https://scikit-learn.org/stable/modules/generated/sklearn.feature_extraction.text.CountVectorizer.html\n",
        "https://scikit-learn.org/stable/modules/generated/sklearn.naive_bayes.MultinomialNB.html"
      ],
      "metadata": {
        "id": "3hy2lzDkDkSG"
      }
    },
    {
      "cell_type": "code",
      "source": [],
      "metadata": {
        "id": "yJWT2FK9C4Xl"
      },
      "execution_count": null,
      "outputs": []
    }
  ]
}